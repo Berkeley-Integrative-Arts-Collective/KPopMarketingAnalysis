{
 "cells": [
  {
   "cell_type": "code",
   "execution_count": 1,
   "source": [
    "%matplotlib inline\r\n",
    "\r\n",
    "from dotenv import load_dotenv\r\n",
    "load_dotenv()\r\n",
    "import numpy as np\r\n",
    "import pandas as pd\r\n",
    "import tweepy\r\n",
    "import matplotlib.pyplot as plt"
   ],
   "outputs": [],
   "metadata": {}
  },
  {
   "cell_type": "code",
   "execution_count": null,
   "source": [],
   "outputs": [],
   "metadata": {}
  }
 ],
 "metadata": {
  "orig_nbformat": 4,
  "language_info": {
   "name": "python",
   "version": "3.8.10",
   "mimetype": "text/x-python",
   "codemirror_mode": {
    "name": "ipython",
    "version": 3
   },
   "pygments_lexer": "ipython3",
   "nbconvert_exporter": "python",
   "file_extension": ".py"
  },
  "kernelspec": {
   "name": "python3",
   "display_name": "Python 3.8.10 64-bit ('base': conda)"
  },
  "interpreter": {
   "hash": "16e1b1e47e5c1edc87bb8c7056e7e7fdd0675f077c247450362cfb227324b7f7"
  }
 },
 "nbformat": 4,
 "nbformat_minor": 2
}